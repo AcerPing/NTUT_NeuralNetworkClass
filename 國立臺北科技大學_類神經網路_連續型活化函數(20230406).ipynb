{
  "nbformat": 4,
  "nbformat_minor": 0,
  "metadata": {
    "colab": {
      "provenance": [],
      "authorship_tag": "ABX9TyMKoUj2/UvdhqrI9ZJ00746",
      "include_colab_link": true
    },
    "kernelspec": {
      "name": "python3",
      "display_name": "Python 3"
    },
    "language_info": {
      "name": "python"
    }
  },
  "cells": [
    {
      "cell_type": "markdown",
      "metadata": {
        "id": "view-in-github",
        "colab_type": "text"
      },
      "source": [
        "<a href=\"https://colab.research.google.com/github/AcerPing/NTUT_NeuralNetworkClass/blob/main/%E5%9C%8B%E7%AB%8B%E8%87%BA%E5%8C%97%E7%A7%91%E6%8A%80%E5%A4%A7%E5%AD%B8_%E9%A1%9E%E7%A5%9E%E7%B6%93%E7%B6%B2%E8%B7%AF_%E9%80%A3%E7%BA%8C%E5%9E%8B%E6%B4%BB%E5%8C%96%E5%87%BD%E6%95%B8(20230406).ipynb\" target=\"_parent\"><img src=\"https://colab.research.google.com/assets/colab-badge.svg\" alt=\"Open In Colab\"/></a>"
      ]
    },
    {
      "cell_type": "code",
      "execution_count": null,
      "metadata": {
        "colab": {
          "base_uri": "https://localhost:8080/"
        },
        "id": "X2SxXlrVqhjp",
        "outputId": "c6dc4730-9a08-4aa7-9b15-1cad9b56eff1"
      },
      "outputs": [
        {
          "output_type": "stream",
          "name": "stdout",
          "text": [
            "initial: [-1.62373111]\n"
          ]
        }
      ],
      "source": [
        "import numpy as np\n",
        "\n",
        "inputs = [] # x\n",
        "inputs.append(np.array([0.922]))\n",
        "inputs.append(np.array([0.459]))\n",
        "inputs.append(np.array([0.984]))\n",
        "inputs.append(np.array([0.794]))\n",
        "inputs.append(np.array([0.119]))\n",
        "inputs.append(np.array([0.258]))\n",
        "inputs.append(np.array([0.734]))\n",
        "inputs.append(np.array([0.123]))\n",
        "inputs.append(np.array([0.713]))\n",
        "inputs.append(np.array([0.943]))\n",
        "labels = np.array([0.559, 0.298, 0.639, 0.516, 0.077, 0.167, 0.477, 0.079, 0.463, 0.612]) # y\n",
        "Iters = 10\n",
        "no_of_inputs = 1\n",
        "np.random.seed(55)\n",
        "weights = np.random.randn(no_of_inputs)\n",
        "print(\"initial: \" + str(weights))\n",
        "learning_rate = 0.95"
      ]
    },
    {
      "cell_type": "code",
      "source": [
        "Err = []\n",
        "#_W = []\n",
        "for _ in range(Iters): \n",
        "  err = 0\n",
        "  W = []\n",
        "  for _input, label in zip(inputs, labels): \n",
        "    predicted = np.dot(_input, weights) # dot product \n",
        "    weights -= learning_rate * (label - predicted) * (-1) * _input\n",
        "    err += (label - predicted) ** 2\n",
        "    #W.append(weights)\n",
        "  Err.append(err/len(inputs))\n",
        "  #_W.append(np.std(W))\n",
        "print(\"trained: \" + str(weights))\n",
        "import matplotlib.pyplot as plt\n",
        "%pylab inline\n",
        "plt.plot(range(0, len(Err)),Err)\n",
        "plt.xlabel('Iteration')\n",
        "plt.ylabel('loss/error')"
      ],
      "metadata": {
        "colab": {
          "base_uri": "https://localhost:8080/",
          "height": 501
        },
        "id": "f5cLRoklqzoO",
        "outputId": "39982b92-6ee8-4ea1-8e71-4f1380249175"
      },
      "execution_count": null,
      "outputs": [
        {
          "output_type": "stream",
          "name": "stdout",
          "text": [
            "trained: [0.64903902]\n",
            "Populating the interactive namespace from numpy and matplotlib\n"
          ]
        },
        {
          "output_type": "execute_result",
          "data": {
            "text/plain": [
              "Text(0, 0.5, 'loss/error')"
            ]
          },
          "metadata": {},
          "execution_count": 2
        },
        {
          "output_type": "display_data",
          "data": {
            "text/plain": [
              "<Figure size 640x480 with 1 Axes>"
            ],
            "image/png": "[encoded data removed]"
          },
          "metadata": {}
        }
      ]
    },
    {
      "cell_type": "code",
      "source": [],
      "metadata": {
        "id": "6l3iroAgq0FP"
      },
      "execution_count": null,
      "outputs": []
    }
  ]
}