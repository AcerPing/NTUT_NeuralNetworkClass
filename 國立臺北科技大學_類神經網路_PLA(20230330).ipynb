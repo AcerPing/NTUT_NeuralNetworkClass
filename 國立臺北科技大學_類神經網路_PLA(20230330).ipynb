{
  "cells": [
    {
      "cell_type": "markdown",
      "metadata": {
        "id": "view-in-github",
        "colab_type": "text"
      },
      "source": [
        "<a href=\"https://colab.research.google.com/github/AcerPing/NTUT_NeuralNetworkClass/blob/main/%E5%9C%8B%E7%AB%8B%E8%87%BA%E5%8C%97%E7%A7%91%E6%8A%80%E5%A4%A7%E5%AD%B8_%E9%A1%9E%E7%A5%9E%E7%B6%93%E7%B6%B2%E8%B7%AF_PLA(20230330).ipynb\" target=\"_parent\"><img src=\"https://colab.research.google.com/assets/colab-badge.svg\" alt=\"Open In Colab\"/></a>"
      ]
    },
    {
      "cell_type": "code",
      "execution_count": null,
      "metadata": {
        "id": "iLp2JhwiUEtg"
      },
      "outputs": [],
      "source": [
        "import numpy as np"
      ]
    },
    {
      "cell_type": "code",
      "execution_count": null,
      "metadata": {
        "id": "MrJ6fezxZmjj"
      },
      "outputs": [],
      "source": [
        "inputs = list()\n",
        "inputs.append(np.array([1, 1, 1]))\n",
        "inputs.append(np.array([1, 0, 1]))\n",
        "inputs.append(np.array([0, 1, 1]))\n",
        "inputs.append(np.array([0, 0, 1]))"
      ]
    },
    {
      "cell_type": "code",
      "execution_count": null,
      "metadata": {
        "id": "GFuBN5onZwm3"
      },
      "outputs": [],
      "source": [
        "labels = np.array([1, 0, 0, 0]) # And Gate\n",
        "# labels = np.array([1, 1, 1, 0]) # OR Gate"
      ]
    },
    {
      "cell_type": "code",
      "execution_count": null,
      "metadata": {
        "id": "czkFBZaAaalM"
      },
      "outputs": [],
      "source": [
        "Iters = 10"
      ]
    },
    {
      "cell_type": "code",
      "execution_count": null,
      "metadata": {
        "colab": {
          "base_uri": "https://localhost:8080/"
        },
        "id": "hJ8p7axVacEd",
        "outputId": "0acbc6b2-34bd-4617-8b0e-ffb3d5b02202"
      },
      "outputs": [
        {
          "output_type": "stream",
          "name": "stdout",
          "text": [
            "initial: [-0.6142823   0.0477981  -0.95910465]\n"
          ]
        }
      ],
      "source": [
        "no_of_inputs = 2\n",
        "# np.random.seed(10)\n",
        "weights = np.random.randn(no_of_inputs + 1)\n",
        "print(\"initial: \" + str(weights))"
      ]
    },
    {
      "cell_type": "code",
      "execution_count": null,
      "metadata": {
        "id": "Ep3FQcShaeyS"
      },
      "outputs": [],
      "source": [
        "learning_rate = 0.15"
      ]
    },
    {
      "cell_type": "code",
      "execution_count": null,
      "metadata": {
        "id": "bvXguKWgayeK",
        "colab": {
          "base_uri": "https://localhost:8080/"
        },
        "outputId": "dab356a2-d9c9-4542-ef40-b2bd5a0c553c"
      },
      "outputs": [
        {
          "output_type": "stream",
          "name": "stdout",
          "text": [
            "[1 1 1] 1\n",
            "[1 0 1] 0\n",
            "[0 1 1] 0\n",
            "[0 0 1] 0\n",
            "[1 1 1] 1\n",
            "[1 0 1] 0\n",
            "[0 1 1] 0\n",
            "[0 0 1] 0\n",
            "[1 1 1] 1\n",
            "[1 0 1] 0\n",
            "[0 1 1] 0\n",
            "[0 0 1] 0\n",
            "[1 1 1] 1\n",
            "[1 0 1] 0\n",
            "[0 1 1] 0\n",
            "[0 0 1] 0\n",
            "[1 1 1] 1\n",
            "[1 0 1] 0\n",
            "[0 1 1] 0\n",
            "[0 0 1] 0\n",
            "[1 1 1] 1\n",
            "[1 0 1] 0\n",
            "[0 1 1] 0\n",
            "[0 0 1] 0\n",
            "[1 1 1] 1\n",
            "[1 0 1] 0\n",
            "[0 1 1] 0\n",
            "[0 0 1] 0\n",
            "[1 1 1] 1\n",
            "[1 0 1] 0\n",
            "[0 1 1] 0\n",
            "[0 0 1] 0\n",
            "[1 1 1] 1\n",
            "[1 0 1] 0\n",
            "[0 1 1] 0\n",
            "[0 0 1] 0\n",
            "[1 1 1] 1\n",
            "[1 0 1] 0\n",
            "[0 1 1] 0\n",
            "[0 0 1] 0\n",
            "trained: [ 0.1357177   0.4977981  -0.50910465]\n"
          ]
        }
      ],
      "source": [
        "for _ in range(Iters): \n",
        "  for _input, label in zip(inputs, labels): \n",
        "    summation = np.dot(_input, weights) # dot product\n",
        "    if summation > 0: # the step activation function\n",
        "      predicted = 1\n",
        "    else: \n",
        "      predicted = 0\n",
        "    weights += learning_rate * (label - predicted) * _input\n",
        "print(\"trained: \" + str(weights))"
      ]
    },
    {
      "cell_type": "code",
      "execution_count": null,
      "metadata": {
        "id": "iHpSu3SJa5Ve",
        "colab": {
          "base_uri": "https://localhost:8080/"
        },
        "outputId": "00b17d44-0b8a-4271-a1c4-c0994bdd19cf"
      },
      "outputs": [
        {
          "output_type": "execute_result",
          "data": {
            "text/plain": [
              "1.4402985074626866"
            ]
          },
          "metadata": {},
          "execution_count": 8
        }
      ],
      "source": [
        "# 計算截距\n",
        "x1 = 0.193/0.134\n",
        "x1"
      ]
    },
    {
      "cell_type": "code",
      "execution_count": null,
      "metadata": {
        "colab": {
          "base_uri": "https://localhost:8080/",
          "height": 501
        },
        "id": "OD_dSZjvdEZa",
        "outputId": "cf6a2aa4-54de-4744-e5e0-19db8b96f042"
      },
      "outputs": [
        {
          "output_type": "stream",
          "name": "stdout",
          "text": [
            "trained: [ 0.1357177   0.4977981  -0.50910465]\n",
            "Populating the interactive namespace from numpy and matplotlib\n"
          ]
        },
        {
          "output_type": "execute_result",
          "data": {
            "text/plain": [
              "Text(0, 0.5, 'loss/error')"
            ]
          },
          "metadata": {},
          "execution_count": 9
        },
        {
          "output_type": "display_data",
          "data": {
            "text/plain": [
              "<Figure size 640x480 with 1 Axes>"
            ],
            "image/png": "[encoded data removed]"
          },
          "metadata": {}
        }
      ],
      "source": [
        "Err = []\n",
        "for _ in range(Iters): \n",
        "  err = 0\n",
        "  for _input, label in zip(inputs, labels): \n",
        "    summation = np.dot(_input, weights) # dot product\n",
        "    if summation > 0: # the step activation function\n",
        "      predicted = 1\n",
        "    else: \n",
        "      predicted = 0\n",
        "    weights += learning_rate * (label - predicted) * _input\n",
        "    err += np.abs(label - predicted)\n",
        "\n",
        "  Err.append(err)\n",
        "\n",
        "print(\"trained: \" + str(weights))\n",
        "\n",
        "import matplotlib.pyplot as plt\n",
        "%pylab inline\n",
        "plt.plot(range(0, len(Err)),Err)\n",
        "plt.xlabel('Iteration')\n",
        "plt.ylabel('loss/error')"
      ]
    },
    {
      "cell_type": "code",
      "execution_count": null,
      "metadata": {
        "id": "rwyhW0hUW_g2",
        "colab": {
          "base_uri": "https://localhost:8080/"
        },
        "outputId": "d9afc829-0e85-4877-878d-65924439ca1c"
      },
      "outputs": [
        {
          "output_type": "stream",
          "name": "stdout",
          "text": [
            "0.18494588590768177\n",
            "0.16959553208758307\n"
          ]
        }
      ],
      "source": [
        "# 計算截距\n",
        "# [ 0.15115068  0.1386053  -0.02563448]\n",
        "print(0.02563448/0.1386053) # X2\n",
        "print(0.02563448/0.15115068) # X1"
      ]
    },
    {
      "cell_type": "code",
      "source": [],
      "metadata": {
        "id": "FkAm6HVGbjsk"
      },
      "execution_count": null,
      "outputs": []
    },
    {
      "cell_type": "code",
      "source": [],
      "metadata": {
        "id": "iEFkEFktc3bR"
      },
      "execution_count": null,
      "outputs": []
    }
  ],
  "metadata": {
    "colab": {
      "provenance": [],
      "authorship_tag": "ABX9TyNWeAGuvB73EAgU9kmCpCPy",
      "include_colab_link": true
    },
    "kernelspec": {
      "display_name": "Python 3",
      "name": "python3"
    },
    "language_info": {
      "name": "python"
    }
  },
  "nbformat": 4,
  "nbformat_minor": 0
}